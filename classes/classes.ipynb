{
 "cells": [
  {
   "cell_type": "code",
   "execution_count": 10,
   "metadata": {},
   "outputs": [
    {
     "name": "stdout",
     "output_type": "stream",
     "text": [
      "The Person is named Juan\nThe Person is named carlos, and comes from Colombia\n"
     ]
    }
   ],
   "source": [
    "from Person import Person\n",
    "from Citizen import Citizen\n",
    "\n",
    "p = Person(\"Juan\")\n",
    "c = Citizen(\"David\", \"Colombia\")\n",
    "c.name = \"carlos\"\n",
    "\n",
    "# llamando a los métodos modificados explícitamente del padre\n",
    "print(p.__str__())\n",
    "print(c.__str__())"
   ]
  },
  {
   "cell_type": "code",
   "execution_count": 2,
   "metadata": {},
   "outputs": [
    {
     "name": "stdout",
     "output_type": "stream",
     "text": [
      "my name is Juan\nmy name is David\n"
     ]
    }
   ],
   "source": [
    "# llamando a los métodos implícitos del padre\n",
    "print(p.get_name())\n",
    "print(c.get_name())"
   ]
  },
  {
   "cell_type": "code",
   "execution_count": 3,
   "metadata": {},
   "outputs": [
    {
     "name": "stdout",
     "output_type": "stream",
     "text": [
      "Pedro\nmy name is Pedro\nThe Person is named Pedro\n"
     ]
    }
   ],
   "source": [
    "# la clase Person será referenciada con un alias \n",
    "a = Person\n",
    "m = a(\"Pedro\")\n",
    "print(m.name)\n",
    "print(m.get_name())\n",
    "print(m.__str__())"
   ]
  },
  {
   "cell_type": "code",
   "execution_count": 2,
   "metadata": {
    "collapsed": false
   },
   "outputs": [
    {
     "name": "stdout",
     "output_type": "stream",
     "text": [
      "After local assignment: test spam\nAfter global assignment: test spam\nAfter nonlocal assignment: nonlocal spam\nIn global scope: global spam\n"
     ]
    }
   ],
   "source": [
    "def scope_test():\n",
    "    def do_local():\n",
    "        # This assignment is not printed in the local scope. Thus, it should not be seen\n",
    "        # outside the do_local() function.\n",
    "        spam = \"local spam\"\n",
    "\n",
    "    def do_nonlocal():\n",
    "        # nonlocal variable is taken in the function's scope. Assignment will be seen in the \n",
    "        # scope_test() function scope, but not outside it.\n",
    "        nonlocal spam\n",
    "        spam = \"nonlocal spam\"\n",
    "\n",
    "    def do_global():\n",
    "        # takes the global variable spam and modifies its value\n",
    "        global spam\n",
    "        spam = \"global spam\"\n",
    "\n",
    "    # definition in the nonlocal scope\n",
    "    spam = \"test spam\"\n",
    "    do_local()\n",
    "    print(\"After local assignment:\", spam)\n",
    "    \n",
    "    do_global()\n",
    "    # although the global definition was modified, it is printed the 'nonlocal' \n",
    "    # value because of the scope's visibility. To print the global value, then the \n",
    "    # global keyword should've been used\n",
    "    print(\"After global assignment:\", spam) \n",
    "    \n",
    "    # only modifies the nonlocal scope definition of the variable. Thus, it should not \n",
    "    # change the global value\n",
    "    do_nonlocal()\n",
    "    print(\"After nonlocal assignment:\", spam)\n",
    "\n",
    "\n",
    "scope_test()\n",
    "print(\"In global scope:\", spam)"
   ]
  },
  {
   "cell_type": "code",
   "execution_count": 5,
   "metadata": {},
   "outputs": [
    {
     "name": "stdout",
     "output_type": "stream",
     "text": [
      "[[1 2 3]\n [4 5 6]\n [7 8 9]]\n---------------\n[[ 4  5  7]\n [20 23 32]\n [34 35 35]]\n"
     ]
    }
   ],
   "source": [
    "import numpy as np\n",
    "\n",
    "mat_a = (np.linspace(1, 9, 9).reshape((3, 3))).astype('int')\n",
    "mat_b = ((mat_a * 5) + np.random.normal(0, 3, (3, 3))).astype('int')\n",
    "print(mat_a)\n",
    "print('---------------')\n",
    "print(mat_b)"
   ]
  },
  {
   "cell_type": "code",
   "execution_count": 6,
   "metadata": {},
   "outputs": [
    {
     "name": "stdout",
     "output_type": "stream",
     "text": [
      "[[146 156 176]\n [320 345 398]\n [494 534 620]]\n<built-in function matmul>\n"
     ]
    }
   ],
   "source": [
    "op = np.matmul\n",
    "\n",
    "# np.matmul(mat_a, mat_b)\n",
    "print(op(mat_a, mat_b))\n",
    "print(op)"
   ]
  },
  {
   "cell_type": "code",
   "execution_count": 7,
   "metadata": {},
   "outputs": [
    {
     "name": "stdout",
     "output_type": "stream",
     "text": [
      "The Person is named David, and comes from Colombia\n<bound method Person.get_name of <Citizen.Citizen object at 0x0535D1D0>>\nmy name is David\n"
     ]
    }
   ],
   "source": [
    "print(c)\n",
    "print(c.get_name)\n",
    "print(c.get_name())"
   ]
  },
  {
   "cell_type": "code",
   "execution_count": 8,
   "metadata": {},
   "outputs": [
    {
     "data": {
      "text/plain": [
       "81"
      ]
     },
     "execution_count": 8,
     "metadata": {},
     "output_type": "execute_result"
    }
   ],
   "source": [
    "c.get_name = lambda: \"no recuerdo mi nombre\"\n",
    "c.get_name = lambda x: x ** 2\n",
    "\n",
    "c.get_name(9)"
   ]
  },
  {
   "cell_type": "code",
   "execution_count": 9,
   "metadata": {},
   "outputs": [
    {
     "name": "stdout",
     "output_type": "stream",
     "text": [
      "osrever ne ortneucne em\n"
     ]
    }
   ],
   "source": [
    "def reverse(data):\n",
    "    for index in range(len(data)-1, -1, -1):\n",
    "        yield data[index]\n",
    "\n",
    "\n",
    "text = \"\"\n",
    "for i in reverse('me encuentro en reverso'):\n",
    "    text += i\n",
    "print(text)"
   ]
  }
 ],
 "metadata": {
  "kernelspec": {
   "display_name": "Python 3",
   "language": "python",
   "name": "python3"
  },
  "language_info": {
   "codemirror_mode": {
    "name": "ipython",
    "version": 3
   },
   "file_extension": ".py",
   "mimetype": "text/x-python",
   "name": "python",
   "nbconvert_exporter": "python",
   "pygments_lexer": "ipython3",
   "version": "3.7.0"
  }
 },
 "nbformat": 4,
 "nbformat_minor": 1
}
